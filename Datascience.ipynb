{
  "metadata": {
    "kernelspec": {
      "name": "python",
      "display_name": "Python (Pyodide)",
      "language": "python"
    },
    "language_info": {
      "codemirror_mode": {
        "name": "python",
        "version": 3
      },
      "file_extension": ".py",
      "mimetype": "text/x-python",
      "name": "python",
      "nbconvert_exporter": "python",
      "pygments_lexer": "ipython3",
      "version": "3.8"
    }
  },
  "nbformat_minor": 4,
  "nbformat": 4,
  "cells": [
    {
      "cell_type": "markdown",
      "source": "Data science ",
      "metadata": {}
    },
    {
      "cell_type": "markdown",
      "source": "In this notebook we can see some of the popular tools, languages and libraries used in data science ",
      "metadata": {}
    },
    {
      "cell_type": "markdown",
      "source": "Some of the popularly used data science languages are\n1) Python\n2) R\n3) Java\n4) C++",
      "metadata": {}
    },
    {
      "cell_type": "markdown",
      "source": "Some of the popularly used data science libraries are\n1) NumPy\n2) Pandas\n3) PyTorch\n4) Matplotlib\n5) Scikitlearn",
      "metadata": {}
    },
    {
      "cell_type": "markdown",
      "source": "Some of the popularly used data science tools are\n1) Apache Spark\n2) Apache Hadoop\n3) SAS",
      "metadata": {}
    },
    {
      "cell_type": "markdown",
      "source": "Let's see some of the arithmetic operations using Python ",
      "metadata": {}
    },
    {
      "cell_type": "code",
      "source": "x=2\ny=3\nprint(x*y)  # Multiplication of two numbers\nprint(x+y)  # Addition of two numbers ",
      "metadata": {
        "trusted": true
      },
      "outputs": [
        {
          "name": "stdout",
          "text": "6\n5\n",
          "output_type": "stream"
        }
      ],
      "execution_count": 1
    },
    {
      "cell_type": "code",
      "source": "# Python code to convert minutes to hour\nminute=180\nhour=minute/60\nprint(hour)",
      "metadata": {
        "trusted": true
      },
      "outputs": [
        {
          "name": "stdout",
          "text": "3.0\n",
          "output_type": "stream"
        }
      ],
      "execution_count": 2
    },
    {
      "cell_type": "markdown",
      "source": "Objective\n1) to list out the popularly used languages which supports data science\n2) to list out the popular data science libraries\n3) to list out the tools used in data science\n4) to explain basic arithmetic operations using Python ",
      "metadata": {}
    },
    {
      "cell_type": "markdown",
      "source": "Author:\nGunasekaran V",
      "metadata": {}
    }
  ]
}